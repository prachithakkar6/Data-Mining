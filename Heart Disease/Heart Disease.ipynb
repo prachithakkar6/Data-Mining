{
 "cells": [
  {
   "cell_type": "markdown",
   "id": "0803af31",
   "metadata": {},
   "source": [
    "## Heart Disease by Group 322\n",
    "\n",
    "Shravya S Kadam - 2021SC04874@wilp.bits-pilani.ac.in, \n",
    "Thakkar Prachi Chetan Chetan - 2021SC04874@wilp.bits-pilani.ac.in, \n",
    "KANURU NAGESHWARA RAO - 2021SC04876@wilp.bits-pilani.ac.in"
   ]
  },
  {
   "cell_type": "markdown",
   "id": "e5822be9",
   "metadata": {},
   "source": [
    "### Loading Dataset"
   ]
  },
  {
   "cell_type": "code",
   "execution_count": 392,
   "id": "8ab7423a",
   "metadata": {},
   "outputs": [
    {
     "data": {
      "text/html": [
       "<div>\n",
       "<style scoped>\n",
       "    .dataframe tbody tr th:only-of-type {\n",
       "        vertical-align: middle;\n",
       "    }\n",
       "\n",
       "    .dataframe tbody tr th {\n",
       "        vertical-align: top;\n",
       "    }\n",
       "\n",
       "    .dataframe thead th {\n",
       "        text-align: right;\n",
       "    }\n",
       "</style>\n",
       "<table border=\"1\" class=\"dataframe\">\n",
       "  <thead>\n",
       "    <tr style=\"text-align: right;\">\n",
       "      <th></th>\n",
       "      <th>Age</th>\n",
       "      <th>Sex</th>\n",
       "      <th>ChestPainType</th>\n",
       "      <th>RestingBP</th>\n",
       "      <th>Cholesterol</th>\n",
       "      <th>FastingBS</th>\n",
       "      <th>RestingECG</th>\n",
       "      <th>MaxHR</th>\n",
       "      <th>ExerciseAngina</th>\n",
       "      <th>Oldpeak</th>\n",
       "      <th>ST_Slope</th>\n",
       "      <th>HeartDisease</th>\n",
       "    </tr>\n",
       "  </thead>\n",
       "  <tbody>\n",
       "    <tr>\n",
       "      <th>0</th>\n",
       "      <td>40</td>\n",
       "      <td>M</td>\n",
       "      <td>ATA</td>\n",
       "      <td>140</td>\n",
       "      <td>289</td>\n",
       "      <td>0</td>\n",
       "      <td>Normal</td>\n",
       "      <td>172</td>\n",
       "      <td>N</td>\n",
       "      <td>0.0</td>\n",
       "      <td>Up</td>\n",
       "      <td>0</td>\n",
       "    </tr>\n",
       "    <tr>\n",
       "      <th>1</th>\n",
       "      <td>49</td>\n",
       "      <td>F</td>\n",
       "      <td>NAP</td>\n",
       "      <td>160</td>\n",
       "      <td>180</td>\n",
       "      <td>0</td>\n",
       "      <td>Normal</td>\n",
       "      <td>156</td>\n",
       "      <td>N</td>\n",
       "      <td>1.0</td>\n",
       "      <td>Flat</td>\n",
       "      <td>1</td>\n",
       "    </tr>\n",
       "    <tr>\n",
       "      <th>2</th>\n",
       "      <td>37</td>\n",
       "      <td>M</td>\n",
       "      <td>ATA</td>\n",
       "      <td>130</td>\n",
       "      <td>283</td>\n",
       "      <td>0</td>\n",
       "      <td>ST</td>\n",
       "      <td>98</td>\n",
       "      <td>N</td>\n",
       "      <td>0.0</td>\n",
       "      <td>Up</td>\n",
       "      <td>0</td>\n",
       "    </tr>\n",
       "    <tr>\n",
       "      <th>3</th>\n",
       "      <td>48</td>\n",
       "      <td>F</td>\n",
       "      <td>ASY</td>\n",
       "      <td>138</td>\n",
       "      <td>214</td>\n",
       "      <td>0</td>\n",
       "      <td>Normal</td>\n",
       "      <td>108</td>\n",
       "      <td>Y</td>\n",
       "      <td>1.5</td>\n",
       "      <td>Flat</td>\n",
       "      <td>1</td>\n",
       "    </tr>\n",
       "    <tr>\n",
       "      <th>4</th>\n",
       "      <td>54</td>\n",
       "      <td>M</td>\n",
       "      <td>NAP</td>\n",
       "      <td>150</td>\n",
       "      <td>195</td>\n",
       "      <td>0</td>\n",
       "      <td>Normal</td>\n",
       "      <td>122</td>\n",
       "      <td>N</td>\n",
       "      <td>0.0</td>\n",
       "      <td>Up</td>\n",
       "      <td>0</td>\n",
       "    </tr>\n",
       "  </tbody>\n",
       "</table>\n",
       "</div>"
      ],
      "text/plain": [
       "   Age Sex ChestPainType  RestingBP  Cholesterol  FastingBS RestingECG  MaxHR  \\\n",
       "0   40   M           ATA        140          289          0     Normal    172   \n",
       "1   49   F           NAP        160          180          0     Normal    156   \n",
       "2   37   M           ATA        130          283          0         ST     98   \n",
       "3   48   F           ASY        138          214          0     Normal    108   \n",
       "4   54   M           NAP        150          195          0     Normal    122   \n",
       "\n",
       "  ExerciseAngina  Oldpeak ST_Slope  HeartDisease  \n",
       "0              N      0.0       Up             0  \n",
       "1              N      1.0     Flat             1  \n",
       "2              N      0.0       Up             0  \n",
       "3              Y      1.5     Flat             1  \n",
       "4              N      0.0       Up             0  "
      ]
     },
     "execution_count": 392,
     "metadata": {},
     "output_type": "execute_result"
    }
   ],
   "source": [
    "import pandas as pd\n",
    "import matplotlib.pyplot as plt\n",
    "import seaborn as sns\n",
    "from sklearn.metrics import accuracy_score\n",
    "\n",
    "df = pd.read_csv(\"heart.csv\")\n",
    "df.head()"
   ]
  },
  {
   "cell_type": "markdown",
   "id": "a2746f2f",
   "metadata": {},
   "source": [
    "### Converting Categorical Attributes to Numeric"
   ]
  },
  {
   "cell_type": "code",
   "execution_count": 393,
   "id": "94df7ea1",
   "metadata": {},
   "outputs": [
    {
     "data": {
      "text/html": [
       "<div>\n",
       "<style scoped>\n",
       "    .dataframe tbody tr th:only-of-type {\n",
       "        vertical-align: middle;\n",
       "    }\n",
       "\n",
       "    .dataframe tbody tr th {\n",
       "        vertical-align: top;\n",
       "    }\n",
       "\n",
       "    .dataframe thead th {\n",
       "        text-align: right;\n",
       "    }\n",
       "</style>\n",
       "<table border=\"1\" class=\"dataframe\">\n",
       "  <thead>\n",
       "    <tr style=\"text-align: right;\">\n",
       "      <th></th>\n",
       "      <th>Age</th>\n",
       "      <th>Sex</th>\n",
       "      <th>ChestPainType</th>\n",
       "      <th>RestingBP</th>\n",
       "      <th>Cholesterol</th>\n",
       "      <th>FastingBS</th>\n",
       "      <th>RestingECG</th>\n",
       "      <th>MaxHR</th>\n",
       "      <th>ExerciseAngina</th>\n",
       "      <th>Oldpeak</th>\n",
       "      <th>ST_Slope</th>\n",
       "      <th>HeartDisease</th>\n",
       "    </tr>\n",
       "  </thead>\n",
       "  <tbody>\n",
       "    <tr>\n",
       "      <th>0</th>\n",
       "      <td>40</td>\n",
       "      <td>0</td>\n",
       "      <td>0</td>\n",
       "      <td>140</td>\n",
       "      <td>289</td>\n",
       "      <td>0</td>\n",
       "      <td>0</td>\n",
       "      <td>172</td>\n",
       "      <td>0</td>\n",
       "      <td>0.0</td>\n",
       "      <td>0</td>\n",
       "      <td>0</td>\n",
       "    </tr>\n",
       "    <tr>\n",
       "      <th>1</th>\n",
       "      <td>49</td>\n",
       "      <td>1</td>\n",
       "      <td>1</td>\n",
       "      <td>160</td>\n",
       "      <td>180</td>\n",
       "      <td>0</td>\n",
       "      <td>0</td>\n",
       "      <td>156</td>\n",
       "      <td>0</td>\n",
       "      <td>1.0</td>\n",
       "      <td>1</td>\n",
       "      <td>1</td>\n",
       "    </tr>\n",
       "    <tr>\n",
       "      <th>2</th>\n",
       "      <td>37</td>\n",
       "      <td>0</td>\n",
       "      <td>0</td>\n",
       "      <td>130</td>\n",
       "      <td>283</td>\n",
       "      <td>0</td>\n",
       "      <td>1</td>\n",
       "      <td>98</td>\n",
       "      <td>0</td>\n",
       "      <td>0.0</td>\n",
       "      <td>0</td>\n",
       "      <td>0</td>\n",
       "    </tr>\n",
       "    <tr>\n",
       "      <th>3</th>\n",
       "      <td>48</td>\n",
       "      <td>1</td>\n",
       "      <td>2</td>\n",
       "      <td>138</td>\n",
       "      <td>214</td>\n",
       "      <td>0</td>\n",
       "      <td>0</td>\n",
       "      <td>108</td>\n",
       "      <td>1</td>\n",
       "      <td>1.5</td>\n",
       "      <td>1</td>\n",
       "      <td>1</td>\n",
       "    </tr>\n",
       "    <tr>\n",
       "      <th>4</th>\n",
       "      <td>54</td>\n",
       "      <td>0</td>\n",
       "      <td>1</td>\n",
       "      <td>150</td>\n",
       "      <td>195</td>\n",
       "      <td>0</td>\n",
       "      <td>0</td>\n",
       "      <td>122</td>\n",
       "      <td>0</td>\n",
       "      <td>0.0</td>\n",
       "      <td>0</td>\n",
       "      <td>0</td>\n",
       "    </tr>\n",
       "  </tbody>\n",
       "</table>\n",
       "</div>"
      ],
      "text/plain": [
       "   Age  Sex  ChestPainType  RestingBP  Cholesterol  FastingBS  RestingECG  \\\n",
       "0   40    0              0        140          289          0           0   \n",
       "1   49    1              1        160          180          0           0   \n",
       "2   37    0              0        130          283          0           1   \n",
       "3   48    1              2        138          214          0           0   \n",
       "4   54    0              1        150          195          0           0   \n",
       "\n",
       "   MaxHR  ExerciseAngina  Oldpeak  ST_Slope  HeartDisease  \n",
       "0    172               0      0.0         0             0  \n",
       "1    156               0      1.0         1             1  \n",
       "2     98               0      0.0         0             0  \n",
       "3    108               1      1.5         1             1  \n",
       "4    122               0      0.0         0             0  "
      ]
     },
     "execution_count": 393,
     "metadata": {},
     "output_type": "execute_result"
    }
   ],
   "source": [
    "df['Sex'].replace(['M', 'F'],[0, 1], inplace=True)\n",
    "df['ChestPainType'].replace(['ATA', 'NAP', 'ASY', 'TA'],[0, 1, 2, 3], inplace=True)\n",
    "df['RestingECG'].replace(['Normal', 'ST', 'LVH'],[0, 1, 2], inplace=True)\n",
    "df['ExerciseAngina'].replace(['N', 'Y'],[0, 1], inplace=True)\n",
    "df['ST_Slope'].replace(['Up', 'Flat', 'Down'],[0, 1, 2], inplace=True)\n",
    "df.head()"
   ]
  },
  {
   "cell_type": "markdown",
   "id": "0c3066f2",
   "metadata": {},
   "source": [
    "### Shape of Dataframe"
   ]
  },
  {
   "cell_type": "code",
   "execution_count": 394,
   "id": "398e4db7",
   "metadata": {},
   "outputs": [
    {
     "data": {
      "text/plain": [
       "(918, 12)"
      ]
     },
     "execution_count": 394,
     "metadata": {},
     "output_type": "execute_result"
    }
   ],
   "source": [
    "df.shape\n",
    "\n",
    "\n"
   ]
  },
  {
   "cell_type": "markdown",
   "id": "d688c06f",
   "metadata": {},
   "source": [
    "### Checking for Null Values"
   ]
  },
  {
   "cell_type": "code",
   "execution_count": 395,
   "id": "a3e3d656",
   "metadata": {},
   "outputs": [
    {
     "data": {
      "text/plain": [
       "Age               0\n",
       "Sex               0\n",
       "ChestPainType     0\n",
       "RestingBP         0\n",
       "Cholesterol       0\n",
       "FastingBS         0\n",
       "RestingECG        0\n",
       "MaxHR             0\n",
       "ExerciseAngina    0\n",
       "Oldpeak           0\n",
       "ST_Slope          0\n",
       "HeartDisease      0\n",
       "dtype: int64"
      ]
     },
     "execution_count": 395,
     "metadata": {},
     "output_type": "execute_result"
    }
   ],
   "source": [
    "df.isnull().sum()"
   ]
  },
  {
   "cell_type": "markdown",
   "id": "56cf2a3d",
   "metadata": {},
   "source": [
    "### Checking for Invalid Values"
   ]
  },
  {
   "cell_type": "code",
   "execution_count": 396,
   "id": "4e8295e8",
   "metadata": {},
   "outputs": [
    {
     "data": {
      "text/plain": [
       "Age               0\n",
       "Sex               0\n",
       "ChestPainType     0\n",
       "RestingBP         0\n",
       "Cholesterol       0\n",
       "FastingBS         0\n",
       "RestingECG        0\n",
       "MaxHR             0\n",
       "ExerciseAngina    0\n",
       "Oldpeak           0\n",
       "ST_Slope          0\n",
       "HeartDisease      0\n",
       "dtype: int64"
      ]
     },
     "execution_count": 396,
     "metadata": {},
     "output_type": "execute_result"
    }
   ],
   "source": [
    "df.isna().sum()"
   ]
  },
  {
   "cell_type": "markdown",
   "id": "403f3b80",
   "metadata": {},
   "source": [
    "### Checking the Correlation Between the Attributes"
   ]
  },
  {
   "cell_type": "code",
   "execution_count": 398,
   "id": "0bc34d47",
   "metadata": {},
   "outputs": [
    {
     "data": {
      "text/plain": [
       "<AxesSubplot:>"
      ]
     },
     "execution_count": 398,
     "metadata": {},
     "output_type": "execute_result"
    },
    {
     "data": {
      "image/png": "[encoded data removed]",
      "text/plain": [
       "<Figure size 864x864 with 2 Axes>"
      ]
     },
     "metadata": {
      "needs_background": "light"
     },
     "output_type": "display_data"
    }
   ],
   "source": [
    "corr = df.corr()\n",
    "fig, ax = plt.subplots(figsize = (12,12))\n",
    "sns.heatmap(corr, annot = True, ax = ax)\n",
    "\n",
    "\n",
    "#if the correlation value \"r\" is higher between 2 variables we can ignore one\n",
    "# range - between -1.0 and 1.0\n",
    "#when \"r\"  is larger than 0.7 we can ignore any one variable between 2."
   ]
  },
  {
   "cell_type": "markdown",
   "id": "c2002b0b",
   "metadata": {},
   "source": [
    " As there is no such 2 attributes whose value is greater than 0.7. We conclude that we cannot eliminate any given attribute"
   ]
  },
  {
   "cell_type": "markdown",
   "id": "87928aa2",
   "metadata": {},
   "source": [
    "### Checking the correlation between dependent attribute (HeartDisease) with independent attributes"
   ]
  },
  {
   "cell_type": "code",
   "execution_count": 399,
   "id": "750cf08b",
   "metadata": {},
   "outputs": [
    {
     "name": "stdout",
     "output_type": "stream",
     "text": [
      "HeartDisease      1.000000\n",
      "ST_Slope          0.558771\n",
      "ExerciseAngina    0.494282\n",
      "ChestPainType     0.459017\n",
      "Oldpeak           0.403951\n",
      "MaxHR             0.400421\n",
      "Sex               0.305445\n",
      "Age               0.282039\n",
      "FastingBS         0.267291\n",
      "Cholesterol       0.232741\n",
      "RestingBP         0.107589\n",
      "RestingECG        0.061011\n",
      "Name: HeartDisease, dtype: float64\n"
     ]
    }
   ],
   "source": [
    "print(df.corr()[\"HeartDisease\"].abs().sort_values(ascending=False))"
   ]
  },
  {
   "cell_type": "markdown",
   "id": "aad930dd",
   "metadata": {},
   "source": [
    "## Data Cleaning"
   ]
  },
  {
   "cell_type": "markdown",
   "id": "6585bf8d",
   "metadata": {},
   "source": [
    "#### Cleaning Age Column - Replacing the Invalid entry ie. Age less than '0' or greater than '100' with the mean value of the Age column"
   ]
  },
  {
   "cell_type": "code",
   "execution_count": 400,
   "id": "a0c79f8c",
   "metadata": {},
   "outputs": [],
   "source": [
    "incorrectAgeList = []\n",
    "total_count = df.shape[0]\n",
    "total = 0\n",
    "avgAge = 0\n",
    "ismodified = 0\n",
    "\n",
    "for i in range(df.shape[0]):\n",
    "    if df.Age.iloc[i] <= 0 or df.Age.iloc[i] >= 100:\n",
    "        incorrectAgeList.append(i)\n",
    "    else:\n",
    "        total = total + df.Age.iloc[i]\n",
    "\n",
    "avgAge = total/total_count\n",
    "\n",
    "\n",
    "for i in incorrectAgeList:\n",
    "    df.loc[i,'Age'] = avgAge\n",
    "    ismodified = 1\n",
    "    \n",
    "if ismodified == 1:\n",
    "    df.to_csv(\"heart.csv\", index=False,float_format='%g')\n",
    "\n"
   ]
  },
  {
   "cell_type": "markdown",
   "id": "82940acc",
   "metadata": {},
   "source": [
    "#### Cleaning RestingBP Column - We considered Standard RestingBP range as '60 - 180' and replaced the noise with mean of the column"
   ]
  },
  {
   "cell_type": "code",
   "execution_count": 401,
   "id": "873628a2",
   "metadata": {},
   "outputs": [],
   "source": [
    "incorrectBPList = []\n",
    "total_count = df.shape[0]\n",
    "total = 0\n",
    "avgBP = 0\n",
    "ismodified = 0\n",
    "\n",
    "for i in range(df.shape[0]):\n",
    "    if df[\"RestingBP\"].iloc[i] <= 60 or df[\"RestingBP\"].iloc[i] > 180:\n",
    "        incorrectBPList.append(i)\n",
    "    else:\n",
    "        total = total + df.RestingBP.iloc[i]\n",
    "\n",
    "avgBP = total/total_count\n",
    "\n",
    "for i in incorrectBPList:\n",
    "    df.loc[i,\"RestingBP\"] = avgBP\n",
    "    ismodified = 1\n",
    "    \n",
    "if ismodified == 1:\n",
    "    df.to_csv(\"heart.csv\", index=False,float_format='%g')"
   ]
  },
  {
   "cell_type": "markdown",
   "id": "5c97a92b",
   "metadata": {},
   "source": [
    "#### Cleaning Cholesterol Column - We considered the Standard Cholesterol level range as '40 - 500' and replaced the noise with mean of the column"
   ]
  },
  {
   "cell_type": "code",
   "execution_count": 402,
   "id": "65e0c7d9",
   "metadata": {},
   "outputs": [],
   "source": [
    "incorrectCholesterolList = []\n",
    "total_count = df.shape[0]\n",
    "total = 0\n",
    "avgBP = 0\n",
    "ismodified = 0\n",
    "\n",
    "for i in range(df.shape[0]):\n",
    "    if df[\"Cholesterol\"].iloc[i] < 40 or df[\"Cholesterol\"].iloc[i] > 500:\n",
    "        incorrectCholesterolList.append(i)\n",
    "    else:\n",
    "        total = total + df.Cholesterol.iloc[i]\n",
    "\n",
    "avgBP = total/total_count\n",
    "\n",
    "for i in incorrectCholesterolList:\n",
    "    df.loc[i,\"Cholesterol\"] = avgBP\n",
    "    ismodified = 1\n",
    "    \n",
    "if ismodified == 1:\n",
    "    df.to_csv(\"heart.csv\", index=False,float_format='%g')"
   ]
  },
  {
   "cell_type": "markdown",
   "id": "45b9e97f",
   "metadata": {},
   "source": [
    "#### Cleaning MaxHR Column - We considered the Standard MaxHR level range as '200' and replaced the noise with mean of the column"
   ]
  },
  {
   "cell_type": "code",
   "execution_count": 403,
   "id": "3e25dc1d",
   "metadata": {},
   "outputs": [],
   "source": [
    "incorrectMaxHRList = []\n",
    "total_count = df.shape[0]\n",
    "total = 0\n",
    "avgOP = 0\n",
    "ismodified = 0\n",
    "\n",
    "for i in range(df.shape[0]):\n",
    "    if df[\"MaxHR\"].iloc[i] <= 0 or df[\"MaxHR\"].iloc[i] > 200:\n",
    "        incorrectMaxHRList.append(i)\n",
    "    else:\n",
    "        total = total + df.MaxHR.iloc[i]\n",
    "\n",
    "avgOP = total/total_count\n",
    "\n",
    "for i in incorrectMaxHRList:\n",
    "    df.loc[i,\"MaxHR\"] = avgOP\n",
    "    ismodified = 1\n",
    "    \n",
    "if ismodified == 1:\n",
    "    df.to_csv(\"heart.csv\", index=False,float_format='%g')"
   ]
  },
  {
   "cell_type": "markdown",
   "id": "82fabf23",
   "metadata": {},
   "source": [
    "#### Cleaning Oldpeak Column - We considered the Standard Oldpeak level range as '-2.55 to 4.2 and replaced the noise with mean of the column"
   ]
  },
  {
   "cell_type": "code",
   "execution_count": 404,
   "id": "da0a8f08",
   "metadata": {},
   "outputs": [],
   "source": [
    "incorrectOldpeakList = []\n",
    "total_count = df.shape[0]\n",
    "total = 0\n",
    "avgOP = 0\n",
    "ismodified = 0\n",
    "\n",
    "for i in range(df.shape[0]):\n",
    "    if df[\"Oldpeak\"].iloc[i] < -2.5 or df[\"Oldpeak\"].iloc[i] > 4.2:\n",
    "        incorrectOldpeakList.append(i)\n",
    "    else:\n",
    "        total = total + df.Oldpeak.iloc[i]\n",
    "\n",
    "avgOP = total/total_count\n",
    "\n",
    "for i in incorrectOldpeakList:\n",
    "    df.loc[i,\"Oldpeak\"] = avgOP\n",
    "    ismodified = 1\n",
    "    \n",
    "if ismodified == 1:\n",
    "    df.to_csv(\"heart.csv\", index=False,float_format='%g')"
   ]
  },
  {
   "cell_type": "markdown",
   "id": "02678d53",
   "metadata": {},
   "source": [
    "### Exploratory Data Analysis (EDA)"
   ]
  },
  {
   "cell_type": "markdown",
   "id": "f0f11e0f",
   "metadata": {},
   "source": [
    "### Analysing HeartDisease variable"
   ]
  },
  {
   "cell_type": "code",
   "execution_count": 405,
   "id": "956aeb04",
   "metadata": {},
   "outputs": [
    {
     "data": {
      "image/png": "[encoded data removed]",
      "text/plain": [
       "<Figure size 432x288 with 1 Axes>"
      ]
     },
     "metadata": {
      "needs_background": "light"
     },
     "output_type": "display_data"
    }
   ],
   "source": [
    "z = df[\"HeartDisease\"]\n",
    "sns.countplot(x=y)\n",
    "target_temp = df.HeartDisease.value_counts()\n"
   ]
  },
  {
   "cell_type": "markdown",
   "id": "f1b00a96",
   "metadata": {},
   "source": [
    "From the plot we can conclude that in the given dataset has greater rate of heart disease "
   ]
  },
  {
   "cell_type": "markdown",
   "id": "f5880e6c",
   "metadata": {},
   "source": [
    "### Analysing Sex variable wrt HeartDiease"
   ]
  },
  {
   "cell_type": "code",
   "execution_count": 406,
   "id": "ad312757",
   "metadata": {},
   "outputs": [
    {
     "data": {
      "text/plain": [
       "<AxesSubplot:xlabel='Sex', ylabel='HeartDisease'>"
      ]
     },
     "execution_count": 406,
     "metadata": {},
     "output_type": "execute_result"
    },
    {
     "data": {
      "image/png": "[encoded data removed]",
      "text/plain": [
       "<Figure size 432x288 with 1 Axes>"
      ]
     },
     "metadata": {
      "needs_background": "light"
     },
     "output_type": "display_data"
    }
   ],
   "source": [
    "sns.barplot(x=df[\"Sex\"],y=z)"
   ]
  },
  {
   "cell_type": "markdown",
   "id": "eedacbde",
   "metadata": {},
   "source": [
    "#### From the plot we can conclude that \"Male\" (0) in the given dataset has greater heart disease than \"Female\" (1)"
   ]
  },
  {
   "cell_type": "markdown",
   "id": "d5659a50",
   "metadata": {},
   "source": [
    "### Analysing ChestPainType variable wrt HeartDisease"
   ]
  },
  {
   "cell_type": "code",
   "execution_count": 407,
   "id": "03332e6a",
   "metadata": {},
   "outputs": [
    {
     "data": {
      "text/plain": [
       "<AxesSubplot:xlabel='ChestPainType', ylabel='HeartDisease'>"
      ]
     },
     "execution_count": 407,
     "metadata": {},
     "output_type": "execute_result"
    },
    {
     "data": {
      "image/png": "[encoded data removed]",
      "text/plain": [
       "<Figure size 432x288 with 1 Axes>"
      ]
     },
     "metadata": {
      "needs_background": "light"
     },
     "output_type": "display_data"
    }
   ],
   "source": [
    "sns.barplot(x=df[\"ChestPainType\"],y=z)"
   ]
  },
  {
   "cell_type": "markdown",
   "id": "967be67e",
   "metadata": {},
   "source": [
    " From the plot we can conclude that patient with ChestPainType \"ASY\" (2) in the given dataset has greater heart disease than remaining ChestPainType"
   ]
  },
  {
   "cell_type": "markdown",
   "id": "7b5ff94b",
   "metadata": {},
   "source": [
    "### Analysing RestingBP  variable wrt HeartDisease"
   ]
  },
  {
   "cell_type": "code",
   "execution_count": 408,
   "id": "725230d9",
   "metadata": {},
   "outputs": [
    {
     "data": {
      "text/plain": [
       "<AxesSubplot:xlabel='RestingBP', ylabel='Count'>"
      ]
     },
     "execution_count": 408,
     "metadata": {},
     "output_type": "execute_result"
    },
    {
     "data": {
      "image/png": "[encoded data removed]",
      "text/plain": [
       "<Figure size 432x288 with 1 Axes>"
      ]
     },
     "metadata": {
      "needs_background": "light"
     },
     "output_type": "display_data"
    }
   ],
   "source": [
    "sns.histplot(x=df[\"RestingBP\"],kde= False, bins = 8)"
   ]
  },
  {
   "cell_type": "markdown",
   "id": "f5bf9848",
   "metadata": {},
   "source": [
    " From the plot we can conclude  in the given dataset there is higher distribution of people with BP level between 130-140 which is  higher and correlated to heart disease "
   ]
  },
  {
   "cell_type": "markdown",
   "id": "3c2440cf",
   "metadata": {},
   "source": [
    "### Analysing FastingBS variable wrt HeartDisease"
   ]
  },
  {
   "cell_type": "code",
   "execution_count": 409,
   "id": "8b6eedda",
   "metadata": {},
   "outputs": [
    {
     "data": {
      "text/plain": [
       "<AxesSubplot:xlabel='FastingBS', ylabel='HeartDisease'>"
      ]
     },
     "execution_count": 409,
     "metadata": {},
     "output_type": "execute_result"
    },
    {
     "data": {
      "image/png": "[encoded data removed]",
      "text/plain": [
       "<Figure size 432x288 with 1 Axes>"
      ]
     },
     "metadata": {
      "needs_background": "light"
     },
     "output_type": "display_data"
    }
   ],
   "source": [
    "sns.barplot(x=df[\"FastingBS\"],y=z)"
   ]
  },
  {
   "cell_type": "markdown",
   "id": "76ce4254",
   "metadata": {},
   "source": [
    " From the plot we can conclude that patient with FastingBS (1) in the given dataset has greater heart disease than without FastingBS. "
   ]
  },
  {
   "cell_type": "markdown",
   "id": "234e93c0",
   "metadata": {},
   "source": [
    "### Analysing RestingECG variable wrt HeartDisease"
   ]
  },
  {
   "cell_type": "code",
   "execution_count": 410,
   "id": "935ad259",
   "metadata": {},
   "outputs": [
    {
     "data": {
      "text/plain": [
       "<AxesSubplot:xlabel='RestingECG', ylabel='HeartDisease'>"
      ]
     },
     "execution_count": 410,
     "metadata": {},
     "output_type": "execute_result"
    },
    {
     "data": {
      "image/png": "[encoded data removed]",
      "text/plain": [
       "<Figure size 432x288 with 1 Axes>"
      ]
     },
     "metadata": {
      "needs_background": "light"
     },
     "output_type": "display_data"
    }
   ],
   "source": [
    "sns.barplot(x=df[\"RestingECG\"],y=z)"
   ]
  },
  {
   "cell_type": "markdown",
   "id": "dd455f4e",
   "metadata": {},
   "source": [
    "From the plot we can conclude that patient with RestingECG \"ST\" (1) in the given dataset has greater heart disease than remaining RestingECG"
   ]
  },
  {
   "cell_type": "markdown",
   "id": "414dff9e",
   "metadata": {},
   "source": [
    "### Analysing MaxHR variable wrt HeartDisease "
   ]
  },
  {
   "cell_type": "code",
   "execution_count": 411,
   "id": "f5063ff0",
   "metadata": {},
   "outputs": [
    {
     "data": {
      "text/plain": [
       "<AxesSubplot:xlabel='MaxHR', ylabel='Count'>"
      ]
     },
     "execution_count": 411,
     "metadata": {},
     "output_type": "execute_result"
    },
    {
     "data": {
      "image/png": "[encoded data removed]",
      "text/plain": [
       "<Figure size 432x288 with 1 Axes>"
      ]
     },
     "metadata": {
      "needs_background": "light"
     },
     "output_type": "display_data"
    }
   ],
   "source": [
    "sns.histplot(x=df[\"MaxHR\"],kde= False, bins = 8)"
   ]
  },
  {
   "cell_type": "markdown",
   "id": "d9002001",
   "metadata": {},
   "source": [
    "From the plot we can conclude in the given dataset there is higher distribution of people with MaxHR level between 110-130 which is higher and correlated to heart disease"
   ]
  },
  {
   "cell_type": "markdown",
   "id": "e065191e",
   "metadata": {},
   "source": [
    "### Analysing ExerciseAngina variable wrt HeartDisease"
   ]
  },
  {
   "cell_type": "code",
   "execution_count": 412,
   "id": "3bebb234",
   "metadata": {},
   "outputs": [
    {
     "data": {
      "text/plain": [
       "<AxesSubplot:xlabel='ExerciseAngina', ylabel='HeartDisease'>"
      ]
     },
     "execution_count": 412,
     "metadata": {},
     "output_type": "execute_result"
    },
    {
     "data": {
      "image/png": "[encoded data removed]",
      "text/plain": [
       "<Figure size 432x288 with 1 Axes>"
      ]
     },
     "metadata": {
      "needs_background": "light"
     },
     "output_type": "display_data"
    }
   ],
   "source": [
    "sns.barplot(x=df[\"ExerciseAngina\"],y=z)"
   ]
  },
  {
   "cell_type": "markdown",
   "id": "e49b0715",
   "metadata": {},
   "source": [
    "From the plot we can conclude that patient with ExerciseAngina  in the given dataset has greater heart disease than without ExerciseAngina"
   ]
  },
  {
   "cell_type": "markdown",
   "id": "c7ebe681",
   "metadata": {},
   "source": [
    "### Analysing Oldpeak variable wrt HeartDisease"
   ]
  },
  {
   "cell_type": "code",
   "execution_count": 413,
   "id": "c0a4ac36",
   "metadata": {},
   "outputs": [
    {
     "data": {
      "text/plain": [
       "<AxesSubplot:xlabel='Oldpeak', ylabel='Count'>"
      ]
     },
     "execution_count": 413,
     "metadata": {},
     "output_type": "execute_result"
    },
    {
     "data": {
      "image/png": "[encoded data removed]",
      "text/plain": [
       "<Figure size 432x288 with 1 Axes>"
      ]
     },
     "metadata": {
      "needs_background": "light"
     },
     "output_type": "display_data"
    }
   ],
   "source": [
    "sns.histplot(x=df[\"Oldpeak\"],kde= False, bins = 8)"
   ]
  },
  {
   "cell_type": "markdown",
   "id": "114a5b32",
   "metadata": {},
   "source": [
    "From the plot we can conclude in the given dataset there is higher distribution of people with Oldpeak level between 0.7 to 1.1 which is lower and negatively correlate to heart disease"
   ]
  },
  {
   "cell_type": "markdown",
   "id": "4289f8f9",
   "metadata": {},
   "source": [
    "### Analysing ST_Slope variable wrt HeartDisease"
   ]
  },
  {
   "cell_type": "code",
   "execution_count": 414,
   "id": "0d54b53a",
   "metadata": {},
   "outputs": [
    {
     "data": {
      "text/plain": [
       "<AxesSubplot:xlabel='ST_Slope', ylabel='HeartDisease'>"
      ]
     },
     "execution_count": 414,
     "metadata": {},
     "output_type": "execute_result"
    },
    {
     "data": {
      "image/png": "[encoded data removed]",
      "text/plain": [
       "<Figure size 432x288 with 1 Axes>"
      ]
     },
     "metadata": {
      "needs_background": "light"
     },
     "output_type": "display_data"
    }
   ],
   "source": [
    "sns.barplot(x=df[\"ST_Slope\"],y=z)"
   ]
  },
  {
   "cell_type": "markdown",
   "id": "0d3e82f0",
   "metadata": {},
   "source": [
    "From the plot we can conclude that patient with ST_Slope \"Flat\" (1) in the given dataset has greater heart disease than remaining ST_Slope"
   ]
  },
  {
   "cell_type": "markdown",
   "id": "9cd0de2b",
   "metadata": {},
   "source": [
    "### Train Test split"
   ]
  },
  {
   "cell_type": "code",
   "execution_count": 415,
   "id": "03467db4",
   "metadata": {},
   "outputs": [],
   "source": [
    "from sklearn.model_selection import train_test_split\n",
    "\n",
    "predictors = df.drop(\"HeartDisease\",axis=1)\n",
    "target = df[\"HeartDisease\"]\n",
    "\n",
    "X_train,X_test,Y_train,Y_test = train_test_split(predictors,target,test_size=0.20,random_state=0)"
   ]
  },
  {
   "cell_type": "code",
   "execution_count": 361,
   "id": "fe3b7312",
   "metadata": {},
   "outputs": [
    {
     "data": {
      "text/plain": [
       "(734, 11)"
      ]
     },
     "execution_count": 361,
     "metadata": {},
     "output_type": "execute_result"
    }
   ],
   "source": [
    "X_train.shape"
   ]
  },
  {
   "cell_type": "code",
   "execution_count": 362,
   "id": "0d3f048c",
   "metadata": {},
   "outputs": [
    {
     "data": {
      "text/plain": [
       "(184, 11)"
      ]
     },
     "execution_count": 362,
     "metadata": {},
     "output_type": "execute_result"
    }
   ],
   "source": [
    "X_test.shape"
   ]
  },
  {
   "cell_type": "code",
   "execution_count": 363,
   "id": "2228448a",
   "metadata": {},
   "outputs": [
    {
     "data": {
      "text/plain": [
       "(734,)"
      ]
     },
     "execution_count": 363,
     "metadata": {},
     "output_type": "execute_result"
    }
   ],
   "source": [
    "Y_train.shape"
   ]
  },
  {
   "cell_type": "code",
   "execution_count": 364,
   "id": "ce79bdb8",
   "metadata": {},
   "outputs": [
    {
     "data": {
      "text/plain": [
       "(184,)"
      ]
     },
     "execution_count": 364,
     "metadata": {},
     "output_type": "execute_result"
    }
   ],
   "source": [
    "Y_test.shape"
   ]
  },
  {
   "cell_type": "markdown",
   "id": "ce27b2d6",
   "metadata": {},
   "source": [
    "### Model Fitting"
   ]
  },
  {
   "cell_type": "markdown",
   "id": "64d30faa",
   "metadata": {},
   "source": [
    "#### Logistic Regression"
   ]
  },
  {
   "cell_type": "code",
   "execution_count": 417,
   "id": "6688ca3a",
   "metadata": {},
   "outputs": [
    {
     "name": "stderr",
     "output_type": "stream",
     "text": [
      "C:\\Users\\Shravya\\anaconda3\\lib\\site-packages\\sklearn\\linear_model\\_logistic.py:763: ConvergenceWarning: lbfgs failed to converge (status=1):\n",
      "STOP: TOTAL NO. of ITERATIONS REACHED LIMIT.\n",
      "\n",
      "Increase the number of iterations (max_iter) or scale the data as shown in:\n",
      "    https://scikit-learn.org/stable/modules/preprocessing.html\n",
      "Please also refer to the documentation for alternative solver options:\n",
      "    https://scikit-learn.org/stable/modules/linear_model.html#logistic-regression\n",
      "  n_iter_i = _check_optimize_result(\n"
     ]
    },
    {
     "data": {
      "text/plain": [
       "(184,)"
      ]
     },
     "execution_count": 417,
     "metadata": {},
     "output_type": "execute_result"
    }
   ],
   "source": [
    "import sklearn.linear_model as lm\n",
    "\n",
    "\n",
    "lr = lm.LogisticRegression()\n",
    "lr.fit(X_train,Y_train)\n",
    "\n",
    "Y_prediction_lr = lr.predict(X_test)\n",
    "Y_prediction_lr.shape"
   ]
  },
  {
   "cell_type": "markdown",
   "id": "e194b595",
   "metadata": {},
   "source": [
    " Finding Accuracy of Logistic Regression for the Model"
   ]
  },
  {
   "cell_type": "code",
   "execution_count": 418,
   "id": "abfa87b8",
   "metadata": {},
   "outputs": [
    {
     "name": "stdout",
     "output_type": "stream",
     "text": [
      "The accuracy score achieved using Logistic Regression is: 80.98 %\n"
     ]
    }
   ],
   "source": [
    "accuracy_lr = round(accuracy_score(Y_prediction_lr,Y_test)*100,2)\n",
    "\n",
    "print(\"The accuracy score achieved using Logistic Regression is: \"+str(accuracy_lr)+\" %\")"
   ]
  },
  {
   "cell_type": "markdown",
   "id": "bec0ed74",
   "metadata": {},
   "source": [
    "### Naive Bayes"
   ]
  },
  {
   "cell_type": "code",
   "execution_count": 419,
   "id": "497fb36d",
   "metadata": {},
   "outputs": [
    {
     "data": {
      "text/plain": [
       "(184,)"
      ]
     },
     "execution_count": 419,
     "metadata": {},
     "output_type": "execute_result"
    }
   ],
   "source": [
    "from sklearn.naive_bayes import GaussianNB\n",
    "\n",
    "nb = GaussianNB()\n",
    "\n",
    "nb.fit(X_train,Y_train)\n",
    "\n",
    "Y_prediction_nb = nb.predict(X_test)\n",
    "Y_prediction_nb.shape"
   ]
  },
  {
   "cell_type": "markdown",
   "id": "4251f2fc",
   "metadata": {},
   "source": [
    "Finding Accuracy of Naive Bayes for the Model"
   ]
  },
  {
   "cell_type": "code",
   "execution_count": 420,
   "id": "cea6cf83",
   "metadata": {},
   "outputs": [
    {
     "name": "stdout",
     "output_type": "stream",
     "text": [
      "The accuracy score achieved using Naive Bayes is: 81.52 %\n"
     ]
    }
   ],
   "source": [
    "accuracy_nb = round(accuracy_score(Y_prediction_nb,Y_test)*100,2)\n",
    "\n",
    "print(\"The accuracy score achieved using Naive Bayes is: \"+str(accuracy_nb)+\" %\")"
   ]
  },
  {
   "cell_type": "markdown",
   "id": "69d72dc7",
   "metadata": {},
   "source": [
    "### K Nearest Neighbors"
   ]
  },
  {
   "cell_type": "code",
   "execution_count": 421,
   "id": "61439300",
   "metadata": {},
   "outputs": [
    {
     "data": {
      "text/plain": [
       "(184,)"
      ]
     },
     "execution_count": 421,
     "metadata": {},
     "output_type": "execute_result"
    }
   ],
   "source": [
    "from sklearn.neighbors import KNeighborsClassifier\n",
    "\n",
    "knn = KNeighborsClassifier(n_neighbors=7)\n",
    "knn.fit(X_train,Y_train)\n",
    "Y_prediction_knn=knn.predict(X_test)\n",
    "Y_prediction_knn.shape"
   ]
  },
  {
   "cell_type": "markdown",
   "id": "25887874",
   "metadata": {},
   "source": [
    "Finding Accuracy of K Nearest Neighbors for the Model"
   ]
  },
  {
   "cell_type": "code",
   "execution_count": 422,
   "id": "7b8e7c30",
   "metadata": {},
   "outputs": [
    {
     "name": "stdout",
     "output_type": "stream",
     "text": [
      "The accuracy score achieved using KNN is: 65.76 %\n"
     ]
    }
   ],
   "source": [
    "accuracy_knn = round(accuracy_score(Y_prediction_knn,Y_test)*100,2)\n",
    "\n",
    "print(\"The accuracy score achieved using KNN is: \"+str(accuracy_knn)+\" %\")"
   ]
  },
  {
   "cell_type": "markdown",
   "id": "638a2eab",
   "metadata": {},
   "source": [
    "### Decision Tree"
   ]
  },
  {
   "cell_type": "code",
   "execution_count": 423,
   "id": "12e05972",
   "metadata": {},
   "outputs": [
    {
     "name": "stdout",
     "output_type": "stream",
     "text": [
      "(184,)\n"
     ]
    }
   ],
   "source": [
    "from sklearn.tree import DecisionTreeClassifier\n",
    "\n",
    "maximum_accuracy = 0\n",
    "\n",
    "\n",
    "for x in range(200):\n",
    "    dt = DecisionTreeClassifier(random_state=x)\n",
    "    dt.fit(X_train,Y_train)\n",
    "    Y_prediction_dt = dt.predict(X_test)\n",
    "    current_accuracy = round(accuracy_score(Y_prediction_dt,Y_test)*100,2)\n",
    "    if(current_accuracy>maximum_accuracy):\n",
    "        maximum_accuracy = current_accuracy\n",
    "        best_x = x\n",
    "        \n",
    "\n",
    "dt = DecisionTreeClassifier(random_state=best_x)\n",
    "dt.fit(X_train,Y_train)\n",
    "Y_prediction_dt = dt.predict(X_test)\n",
    "print(Y_prediction_dt.shape)"
   ]
  },
  {
   "cell_type": "markdown",
   "id": "a9e2a5a0",
   "metadata": {},
   "source": [
    "Finding Accuracy of Decision Tree for the Model"
   ]
  },
  {
   "cell_type": "code",
   "execution_count": 424,
   "id": "308bc08b",
   "metadata": {},
   "outputs": [
    {
     "name": "stdout",
     "output_type": "stream",
     "text": [
      "The accuracy score achieved using Decision Tree is: 78.8 %\n"
     ]
    }
   ],
   "source": [
    "accuracy_dt = round(accuracy_score(Y_prediction_dt,Y_test)*100,2)\n",
    "\n",
    "print(\"The accuracy score achieved using Decision Tree is: \"+str(accuracy_dt)+\" %\")"
   ]
  },
  {
   "cell_type": "markdown",
   "id": "b832dc3c",
   "metadata": {},
   "source": [
    "## From the accuracy we conclude that Naive Bayes is the best fit to our model"
   ]
  }
 ],
 "metadata": {
  "kernelspec": {
   "display_name": "Python 3 (ipykernel)",
   "language": "python",
   "name": "python3"
  },
  "language_info": {
   "codemirror_mode": {
    "name": "ipython",
    "version": 3
   },
   "file_extension": ".py",
   "mimetype": "text/x-python",
   "name": "python",
   "nbconvert_exporter": "python",
   "pygments_lexer": "ipython3",
   "version": "3.9.7"
  }
 },
 "nbformat": 4,
 "nbformat_minor": 5
}
